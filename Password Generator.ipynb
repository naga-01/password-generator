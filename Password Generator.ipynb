{
 "cells": [
  {
   "cell_type": "code",
   "execution_count": 46,
   "metadata": {},
   "outputs": [
    {
     "name": "stdout",
     "output_type": "stream",
     "text": [
      "Enter the length of Password5\n",
      "Password is ,<IBo\n"
     ]
    }
   ],
   "source": [
    "import random\n",
    "import string\n",
    "password_length = int(input(\"Enter the length of Password\"))\n",
    "password=''\n",
    "for x in range(password_length):\n",
    "    num = random.choices(string.digits)\n",
    "    upp = random.choices(string.ascii_lowercase)\n",
    "    low = random.choices(string.ascii_uppercase)\n",
    "    spl = random.choices(string.punctuation)\n",
    "    randomm = ''.join(random.choice(num+upp+low+spl))\n",
    "    password = password + randomm\n",
    "\n",
    "print(f\"Password is {password}\")\n"
   ]
  },
  {
   "cell_type": "code",
   "execution_count": null,
   "metadata": {},
   "outputs": [],
   "source": []
  },
  {
   "cell_type": "code",
   "execution_count": null,
   "metadata": {},
   "outputs": [],
   "source": []
  }
 ],
 "metadata": {
  "kernelspec": {
   "display_name": "Python 3",
   "language": "python",
   "name": "python3"
  },
  "language_info": {
   "codemirror_mode": {
    "name": "ipython",
    "version": 3
   },
   "file_extension": ".py",
   "mimetype": "text/x-python",
   "name": "python",
   "nbconvert_exporter": "python",
   "pygments_lexer": "ipython3",
   "version": "3.7.1"
  }
 },
 "nbformat": 4,
 "nbformat_minor": 2
}
